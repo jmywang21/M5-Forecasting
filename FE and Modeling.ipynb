{
 "cells": [
  {
   "cell_type": "code",
   "execution_count": 1,
   "metadata": {},
   "outputs": [],
   "source": [
    "\n",
    "import numpy as np\n",
    "import pandas as pd\n",
    "import matplotlib.pyplot as plt\n",
    "import seaborn as sns\n",
    "import gc\n",
    "import matplotlib.ticker as ticker\n",
    "import matplotlib.dates as mdates\n",
    "\n",
    "from sklearn import preprocessing\n",
    "from sklearn.metrics import mean_squared_error\n",
    "from sklearn.model_selection import GridSearchCV\n",
    "from sklearn.model_selection import TimeSeriesSplit\n",
    "\n",
    "import xgboost as xgb\n",
    "\n",
    "from joblib import Parallel, delayed"
   ]
  },
  {
   "cell_type": "code",
   "execution_count": 2,
   "metadata": {},
   "outputs": [],
   "source": [
    "def reduce_mem_usage(df):\n",
    "    \"\"\" iterate through all the columns of a dataframe and modify the data type\n",
    "        to reduce memory usage.        \n",
    "    \"\"\"\n",
    "    start_mem = df.memory_usage().sum() / 1024**2\n",
    "    print('Memory usage of dataframe is {:.2f} MB'.format(start_mem))\n",
    "    \n",
    "    for col in df.columns:\n",
    "        col_type = df[col].dtype\n",
    "        \n",
    "        if col_type != object and str(col_type)!= 'category':\n",
    "            c_min = df[col].min()\n",
    "            c_max = df[col].max()\n",
    "            if str(col_type)[:3] == 'int':\n",
    "                if c_min > np.iinfo(np.int8).min and c_max < np.iinfo(np.int8).max:\n",
    "                    df[col] = df[col].astype(np.int8)\n",
    "                elif c_min > np.iinfo(np.int16).min and c_max < np.iinfo(np.int16).max:\n",
    "                    df[col] = df[col].astype(np.int16)\n",
    "                elif c_min > np.iinfo(np.int32).min and c_max < np.iinfo(np.int32).max:\n",
    "                    df[col] = df[col].astype(np.int32)\n",
    "                elif c_min > np.iinfo(np.int64).min and c_max < np.iinfo(np.int64).max:\n",
    "                    df[col] = df[col].astype(np.int64)  \n",
    "            else:\n",
    "                if c_min > np.finfo(np.float16).min and c_max < np.finfo(np.float16).max:\n",
    "                    df[col] = df[col].astype(np.float16)\n",
    "                elif c_min > np.finfo(np.float32).min and c_max < np.finfo(np.float32).max:\n",
    "                    df[col] = df[col].astype(np.float32)\n",
    "                else:\n",
    "                    df[col] = df[col].astype(np.float64)\n",
    "        else:\n",
    "            df[col] = df[col].astype('category')\n",
    "\n",
    "    end_mem = df.memory_usage().sum() / 1024**2\n",
    "    print('Memory usage after optimization is: {:.2f} MB'.format(end_mem))\n",
    "    print('Decreased by {:.1f}%'.format(100 * (start_mem - end_mem) / start_mem))\n",
    "    \n",
    "    return df"
   ]
  },
  {
   "cell_type": "code",
   "execution_count": 53,
   "metadata": {},
   "outputs": [],
   "source": [
    "df_calendar = pd.read_csv('calendar.csv')\n",
    "df_sales = pd.read_csv('sales_train_validation.csv')\n",
    "df_price = pd.read_csv('sell_prices.csv')"
   ]
  },
  {
   "cell_type": "code",
   "execution_count": 4,
   "metadata": {},
   "outputs": [
    {
     "name": "stdout",
     "output_type": "stream",
     "text": [
      "Memory usage of dataframe is 0.21 MB\n",
      "Memory usage after optimization is: 0.19 MB\n",
      "Decreased by 8.7%\n",
      "Memory usage of dataframe is 446.40 MB\n",
      "Memory usage after optimization is: 95.16 MB\n",
      "Decreased by 78.7%\n",
      "Memory usage of dataframe is 208.77 MB\n",
      "Memory usage after optimization is: 45.76 MB\n",
      "Decreased by 78.1%\n",
      "CPU times: user 2min 42s, sys: 2min 35s, total: 5min 17s\n",
      "Wall time: 5min 22s\n"
     ]
    }
   ],
   "source": [
    "%%time\n",
    "\n",
    "df_calendar = reduce_mem_usage(df_calendar)\n",
    "df_sales = reduce_mem_usage(df_sales)\n",
    "df_price = reduce_mem_usage(df_price)"
   ]
  },
  {
   "cell_type": "code",
   "execution_count": 56,
   "metadata": {},
   "outputs": [
    {
     "data": {
      "text/plain": [
       "(6841121, 4)"
      ]
     },
     "execution_count": 56,
     "metadata": {},
     "output_type": "execute_result"
    }
   ],
   "source": [
    "df_price.shape"
   ]
  },
  {
   "cell_type": "code",
   "execution_count": 5,
   "metadata": {},
   "outputs": [],
   "source": [
    "for i in range(1914, 1942):\n",
    "    df_sales['d_'+str(i)] = np.nan"
   ]
  },
  {
   "cell_type": "code",
   "execution_count": 6,
   "metadata": {},
   "outputs": [],
   "source": [
    "d_colnames = []\n",
    "\n",
    "#for test\n",
    "for i in range(1, 1942):\n",
    "    d_colnames.append('d_'+str(i))\n",
    "    \n",
    "sales = pd.melt(df_sales, \\\n",
    "        id_vars=['id', 'item_id', 'dept_id', 'cat_id', 'store_id', 'state_id'],\n",
    "        value_vars=d_colnames, var_name='day_number', value_name='units_sold')\n",
    "sales['day_number'] = \\\n",
    "    sales['day_number'].apply(lambda x: int(x[2:]))\n"
   ]
  },
  {
   "cell_type": "code",
   "execution_count": 7,
   "metadata": {},
   "outputs": [
    {
     "name": "stdout",
     "output_type": "stream",
     "text": [
      "Memory usage of dataframe is 1355.88 MB\n",
      "Memory usage after optimization is: 678.60 MB\n",
      "Decreased by 50.0%\n",
      "CPU times: user 1.43 s, sys: 599 ms, total: 2.02 s\n",
      "Wall time: 2.18 s\n"
     ]
    }
   ],
   "source": [
    "%%time\n",
    "\n",
    "sales = reduce_mem_usage(sales)\n"
   ]
  },
  {
   "cell_type": "code",
   "execution_count": 8,
   "metadata": {},
   "outputs": [],
   "source": [
    "df_calendar['d'] = \\\n",
    "    df_calendar['d'].apply(lambda x: int(x[2:]))\n",
    "\n",
    "sales = sales.merge(df_calendar, left_on='day_number', right_on='d', how='left')\n",
    "\n"
   ]
  },
  {
   "cell_type": "code",
   "execution_count": 9,
   "metadata": {},
   "outputs": [
    {
     "name": "stdout",
     "output_type": "stream",
     "text": [
      "Memory usage of dataframe is 2484.82 MB\n",
      "Memory usage after optimization is: 2146.26 MB\n",
      "Decreased by 13.6%\n"
     ]
    }
   ],
   "source": [
    "sales = reduce_mem_usage(sales)"
   ]
  },
  {
   "cell_type": "code",
   "execution_count": 10,
   "metadata": {},
   "outputs": [
    {
     "data": {
      "text/plain": [
       "0"
      ]
     },
     "execution_count": 10,
     "metadata": {},
     "output_type": "execute_result"
    }
   ],
   "source": [
    "del df_calendar\n",
    "del df_sales\n",
    "\n",
    "gc.collect()"
   ]
  },
  {
   "cell_type": "code",
   "execution_count": 11,
   "metadata": {},
   "outputs": [],
   "source": [
    "\n",
    "df = sales.merge(\n",
    "    df_price, left_on=['store_id', 'item_id', 'wm_yr_wk'],\n",
    "    right_on=['store_id', 'item_id', 'wm_yr_wk'],\n",
    "    how='left')\n"
   ]
  },
  {
   "cell_type": "code",
   "execution_count": 12,
   "metadata": {},
   "outputs": [
    {
     "name": "stdout",
     "output_type": "stream",
     "text": [
      "Memory usage of dataframe is 2259.14 MB\n",
      "Memory usage after optimization is: 2259.14 MB\n",
      "Decreased by 0.0%\n",
      "CPU times: user 2.79 s, sys: 393 ms, total: 3.19 s\n",
      "Wall time: 3.24 s\n"
     ]
    }
   ],
   "source": [
    "%%time\n",
    "\n",
    "df = reduce_mem_usage(df)"
   ]
  },
  {
   "cell_type": "code",
   "execution_count": 13,
   "metadata": {},
   "outputs": [
    {
     "data": {
      "text/plain": [
       "0"
      ]
     },
     "execution_count": 13,
     "metadata": {},
     "output_type": "execute_result"
    }
   ],
   "source": [
    "del sales\n",
    "del df_price\n",
    "gc.collect()"
   ]
  },
  {
   "cell_type": "code",
   "execution_count": 14,
   "metadata": {},
   "outputs": [
    {
     "name": "stderr",
     "output_type": "stream",
     "text": [
      "/Users/Jammy/anaconda3/lib/python3.7/site-packages/ipykernel_launcher.py:3: FutureWarning: Series.dt.weekofyear and Series.dt.week have been deprecated.  Please use Series.dt.isocalendar().week instead.\n",
      "  This is separate from the ipykernel package so we can avoid doing imports until\n"
     ]
    }
   ],
   "source": [
    "df.drop(['wday', 'd', 'wm_yr_wk'], inplace=True, axis=1)\n",
    "df['date'] = pd.to_datetime(df['date'])\n",
    "df['week'] = df['date'].dt.week"
   ]
  },
  {
   "cell_type": "code",
   "execution_count": 15,
   "metadata": {},
   "outputs": [],
   "source": [
    "df.to_pickle(\"./data.pkl\")"
   ]
  },
  {
   "cell_type": "code",
   "execution_count": 16,
   "metadata": {},
   "outputs": [],
   "source": [
    "df_unpickle = pd.read_pickle(\"./data.pkl\")"
   ]
  },
  {
   "cell_type": "code",
   "execution_count": 17,
   "metadata": {},
   "outputs": [],
   "source": [
    "df_unpickle = df_unpickle[df_unpickle.day_number.astype(int) > 972]"
   ]
  },
  {
   "cell_type": "code",
   "execution_count": 18,
   "metadata": {},
   "outputs": [
    {
     "data": {
      "text/html": [
       "<div>\n",
       "<style scoped>\n",
       "    .dataframe tbody tr th:only-of-type {\n",
       "        vertical-align: middle;\n",
       "    }\n",
       "\n",
       "    .dataframe tbody tr th {\n",
       "        vertical-align: top;\n",
       "    }\n",
       "\n",
       "    .dataframe thead th {\n",
       "        text-align: right;\n",
       "    }\n",
       "</style>\n",
       "<table border=\"1\" class=\"dataframe\">\n",
       "  <thead>\n",
       "    <tr style=\"text-align: right;\">\n",
       "      <th></th>\n",
       "      <th>id</th>\n",
       "      <th>item_id</th>\n",
       "      <th>dept_id</th>\n",
       "      <th>cat_id</th>\n",
       "      <th>store_id</th>\n",
       "      <th>state_id</th>\n",
       "      <th>day_number</th>\n",
       "      <th>units_sold</th>\n",
       "      <th>date</th>\n",
       "      <th>weekday</th>\n",
       "      <th>...</th>\n",
       "      <th>year</th>\n",
       "      <th>event_name_1</th>\n",
       "      <th>event_type_1</th>\n",
       "      <th>event_name_2</th>\n",
       "      <th>event_type_2</th>\n",
       "      <th>snap_CA</th>\n",
       "      <th>snap_TX</th>\n",
       "      <th>snap_WI</th>\n",
       "      <th>sell_price</th>\n",
       "      <th>week</th>\n",
       "    </tr>\n",
       "  </thead>\n",
       "  <tbody>\n",
       "    <tr>\n",
       "      <th>35886730</th>\n",
       "      <td>HOBBIES_1_001_CA_1_validation</td>\n",
       "      <td>HOBBIES_1_001</td>\n",
       "      <td>HOBBIES_1</td>\n",
       "      <td>HOBBIES</td>\n",
       "      <td>CA_1</td>\n",
       "      <td>CA</td>\n",
       "      <td>1178</td>\n",
       "      <td>0.0</td>\n",
       "      <td>2014-04-20</td>\n",
       "      <td>Sunday</td>\n",
       "      <td>...</td>\n",
       "      <td>2014</td>\n",
       "      <td>Easter</td>\n",
       "      <td>Cultural</td>\n",
       "      <td>OrthodoxEaster</td>\n",
       "      <td>Religious</td>\n",
       "      <td>0</td>\n",
       "      <td>0</td>\n",
       "      <td>0</td>\n",
       "      <td>8.257812</td>\n",
       "      <td>16</td>\n",
       "    </tr>\n",
       "    <tr>\n",
       "      <th>35886731</th>\n",
       "      <td>HOBBIES_1_002_CA_1_validation</td>\n",
       "      <td>HOBBIES_1_002</td>\n",
       "      <td>HOBBIES_1</td>\n",
       "      <td>HOBBIES</td>\n",
       "      <td>CA_1</td>\n",
       "      <td>CA</td>\n",
       "      <td>1178</td>\n",
       "      <td>0.0</td>\n",
       "      <td>2014-04-20</td>\n",
       "      <td>Sunday</td>\n",
       "      <td>...</td>\n",
       "      <td>2014</td>\n",
       "      <td>Easter</td>\n",
       "      <td>Cultural</td>\n",
       "      <td>OrthodoxEaster</td>\n",
       "      <td>Religious</td>\n",
       "      <td>0</td>\n",
       "      <td>0</td>\n",
       "      <td>0</td>\n",
       "      <td>3.970703</td>\n",
       "      <td>16</td>\n",
       "    </tr>\n",
       "    <tr>\n",
       "      <th>35886732</th>\n",
       "      <td>HOBBIES_1_003_CA_1_validation</td>\n",
       "      <td>HOBBIES_1_003</td>\n",
       "      <td>HOBBIES_1</td>\n",
       "      <td>HOBBIES</td>\n",
       "      <td>CA_1</td>\n",
       "      <td>CA</td>\n",
       "      <td>1178</td>\n",
       "      <td>0.0</td>\n",
       "      <td>2014-04-20</td>\n",
       "      <td>Sunday</td>\n",
       "      <td>...</td>\n",
       "      <td>2014</td>\n",
       "      <td>Easter</td>\n",
       "      <td>Cultural</td>\n",
       "      <td>OrthodoxEaster</td>\n",
       "      <td>Religious</td>\n",
       "      <td>0</td>\n",
       "      <td>0</td>\n",
       "      <td>0</td>\n",
       "      <td>2.970703</td>\n",
       "      <td>16</td>\n",
       "    </tr>\n",
       "    <tr>\n",
       "      <th>35886733</th>\n",
       "      <td>HOBBIES_1_004_CA_1_validation</td>\n",
       "      <td>HOBBIES_1_004</td>\n",
       "      <td>HOBBIES_1</td>\n",
       "      <td>HOBBIES</td>\n",
       "      <td>CA_1</td>\n",
       "      <td>CA</td>\n",
       "      <td>1178</td>\n",
       "      <td>4.0</td>\n",
       "      <td>2014-04-20</td>\n",
       "      <td>Sunday</td>\n",
       "      <td>...</td>\n",
       "      <td>2014</td>\n",
       "      <td>Easter</td>\n",
       "      <td>Cultural</td>\n",
       "      <td>OrthodoxEaster</td>\n",
       "      <td>Religious</td>\n",
       "      <td>0</td>\n",
       "      <td>0</td>\n",
       "      <td>0</td>\n",
       "      <td>4.640625</td>\n",
       "      <td>16</td>\n",
       "    </tr>\n",
       "    <tr>\n",
       "      <th>35886734</th>\n",
       "      <td>HOBBIES_1_005_CA_1_validation</td>\n",
       "      <td>HOBBIES_1_005</td>\n",
       "      <td>HOBBIES_1</td>\n",
       "      <td>HOBBIES</td>\n",
       "      <td>CA_1</td>\n",
       "      <td>CA</td>\n",
       "      <td>1178</td>\n",
       "      <td>3.0</td>\n",
       "      <td>2014-04-20</td>\n",
       "      <td>Sunday</td>\n",
       "      <td>...</td>\n",
       "      <td>2014</td>\n",
       "      <td>Easter</td>\n",
       "      <td>Cultural</td>\n",
       "      <td>OrthodoxEaster</td>\n",
       "      <td>Religious</td>\n",
       "      <td>0</td>\n",
       "      <td>0</td>\n",
       "      <td>0</td>\n",
       "      <td>3.080078</td>\n",
       "      <td>16</td>\n",
       "    </tr>\n",
       "    <tr>\n",
       "      <th>...</th>\n",
       "      <td>...</td>\n",
       "      <td>...</td>\n",
       "      <td>...</td>\n",
       "      <td>...</td>\n",
       "      <td>...</td>\n",
       "      <td>...</td>\n",
       "      <td>...</td>\n",
       "      <td>...</td>\n",
       "      <td>...</td>\n",
       "      <td>...</td>\n",
       "      <td>...</td>\n",
       "      <td>...</td>\n",
       "      <td>...</td>\n",
       "      <td>...</td>\n",
       "      <td>...</td>\n",
       "      <td>...</td>\n",
       "      <td>...</td>\n",
       "      <td>...</td>\n",
       "      <td>...</td>\n",
       "      <td>...</td>\n",
       "      <td>...</td>\n",
       "    </tr>\n",
       "    <tr>\n",
       "      <th>37624655</th>\n",
       "      <td>FOODS_3_823_WI_3_validation</td>\n",
       "      <td>FOODS_3_823</td>\n",
       "      <td>FOODS_3</td>\n",
       "      <td>FOODS</td>\n",
       "      <td>WI_3</td>\n",
       "      <td>WI</td>\n",
       "      <td>1234</td>\n",
       "      <td>0.0</td>\n",
       "      <td>2014-06-15</td>\n",
       "      <td>Sunday</td>\n",
       "      <td>...</td>\n",
       "      <td>2014</td>\n",
       "      <td>NBAFinalsEnd</td>\n",
       "      <td>Sporting</td>\n",
       "      <td>Father's day</td>\n",
       "      <td>Cultural</td>\n",
       "      <td>0</td>\n",
       "      <td>1</td>\n",
       "      <td>1</td>\n",
       "      <td>2.880859</td>\n",
       "      <td>24</td>\n",
       "    </tr>\n",
       "    <tr>\n",
       "      <th>37624656</th>\n",
       "      <td>FOODS_3_824_WI_3_validation</td>\n",
       "      <td>FOODS_3_824</td>\n",
       "      <td>FOODS_3</td>\n",
       "      <td>FOODS</td>\n",
       "      <td>WI_3</td>\n",
       "      <td>WI</td>\n",
       "      <td>1234</td>\n",
       "      <td>1.0</td>\n",
       "      <td>2014-06-15</td>\n",
       "      <td>Sunday</td>\n",
       "      <td>...</td>\n",
       "      <td>2014</td>\n",
       "      <td>NBAFinalsEnd</td>\n",
       "      <td>Sporting</td>\n",
       "      <td>Father's day</td>\n",
       "      <td>Cultural</td>\n",
       "      <td>0</td>\n",
       "      <td>1</td>\n",
       "      <td>1</td>\n",
       "      <td>2.679688</td>\n",
       "      <td>24</td>\n",
       "    </tr>\n",
       "    <tr>\n",
       "      <th>37624657</th>\n",
       "      <td>FOODS_3_825_WI_3_validation</td>\n",
       "      <td>FOODS_3_825</td>\n",
       "      <td>FOODS_3</td>\n",
       "      <td>FOODS</td>\n",
       "      <td>WI_3</td>\n",
       "      <td>WI</td>\n",
       "      <td>1234</td>\n",
       "      <td>1.0</td>\n",
       "      <td>2014-06-15</td>\n",
       "      <td>Sunday</td>\n",
       "      <td>...</td>\n",
       "      <td>2014</td>\n",
       "      <td>NBAFinalsEnd</td>\n",
       "      <td>Sporting</td>\n",
       "      <td>Father's day</td>\n",
       "      <td>Cultural</td>\n",
       "      <td>0</td>\n",
       "      <td>1</td>\n",
       "      <td>1</td>\n",
       "      <td>3.980469</td>\n",
       "      <td>24</td>\n",
       "    </tr>\n",
       "    <tr>\n",
       "      <th>37624658</th>\n",
       "      <td>FOODS_3_826_WI_3_validation</td>\n",
       "      <td>FOODS_3_826</td>\n",
       "      <td>FOODS_3</td>\n",
       "      <td>FOODS</td>\n",
       "      <td>WI_3</td>\n",
       "      <td>WI</td>\n",
       "      <td>1234</td>\n",
       "      <td>1.0</td>\n",
       "      <td>2014-06-15</td>\n",
       "      <td>Sunday</td>\n",
       "      <td>...</td>\n",
       "      <td>2014</td>\n",
       "      <td>NBAFinalsEnd</td>\n",
       "      <td>Sporting</td>\n",
       "      <td>Father's day</td>\n",
       "      <td>Cultural</td>\n",
       "      <td>0</td>\n",
       "      <td>1</td>\n",
       "      <td>1</td>\n",
       "      <td>1.280273</td>\n",
       "      <td>24</td>\n",
       "    </tr>\n",
       "    <tr>\n",
       "      <th>37624659</th>\n",
       "      <td>FOODS_3_827_WI_3_validation</td>\n",
       "      <td>FOODS_3_827</td>\n",
       "      <td>FOODS_3</td>\n",
       "      <td>FOODS</td>\n",
       "      <td>WI_3</td>\n",
       "      <td>WI</td>\n",
       "      <td>1234</td>\n",
       "      <td>0.0</td>\n",
       "      <td>2014-06-15</td>\n",
       "      <td>Sunday</td>\n",
       "      <td>...</td>\n",
       "      <td>2014</td>\n",
       "      <td>NBAFinalsEnd</td>\n",
       "      <td>Sporting</td>\n",
       "      <td>Father's day</td>\n",
       "      <td>Cultural</td>\n",
       "      <td>0</td>\n",
       "      <td>1</td>\n",
       "      <td>1</td>\n",
       "      <td>1.000000</td>\n",
       "      <td>24</td>\n",
       "    </tr>\n",
       "  </tbody>\n",
       "</table>\n",
       "<p>60980 rows × 21 columns</p>\n",
       "</div>"
      ],
      "text/plain": [
       "                                     id        item_id    dept_id   cat_id  \\\n",
       "35886730  HOBBIES_1_001_CA_1_validation  HOBBIES_1_001  HOBBIES_1  HOBBIES   \n",
       "35886731  HOBBIES_1_002_CA_1_validation  HOBBIES_1_002  HOBBIES_1  HOBBIES   \n",
       "35886732  HOBBIES_1_003_CA_1_validation  HOBBIES_1_003  HOBBIES_1  HOBBIES   \n",
       "35886733  HOBBIES_1_004_CA_1_validation  HOBBIES_1_004  HOBBIES_1  HOBBIES   \n",
       "35886734  HOBBIES_1_005_CA_1_validation  HOBBIES_1_005  HOBBIES_1  HOBBIES   \n",
       "...                                 ...            ...        ...      ...   \n",
       "37624655    FOODS_3_823_WI_3_validation    FOODS_3_823    FOODS_3    FOODS   \n",
       "37624656    FOODS_3_824_WI_3_validation    FOODS_3_824    FOODS_3    FOODS   \n",
       "37624657    FOODS_3_825_WI_3_validation    FOODS_3_825    FOODS_3    FOODS   \n",
       "37624658    FOODS_3_826_WI_3_validation    FOODS_3_826    FOODS_3    FOODS   \n",
       "37624659    FOODS_3_827_WI_3_validation    FOODS_3_827    FOODS_3    FOODS   \n",
       "\n",
       "         store_id state_id day_number  units_sold       date weekday  ...  \\\n",
       "35886730     CA_1       CA       1178         0.0 2014-04-20  Sunday  ...   \n",
       "35886731     CA_1       CA       1178         0.0 2014-04-20  Sunday  ...   \n",
       "35886732     CA_1       CA       1178         0.0 2014-04-20  Sunday  ...   \n",
       "35886733     CA_1       CA       1178         4.0 2014-04-20  Sunday  ...   \n",
       "35886734     CA_1       CA       1178         3.0 2014-04-20  Sunday  ...   \n",
       "...           ...      ...        ...         ...        ...     ...  ...   \n",
       "37624655     WI_3       WI       1234         0.0 2014-06-15  Sunday  ...   \n",
       "37624656     WI_3       WI       1234         1.0 2014-06-15  Sunday  ...   \n",
       "37624657     WI_3       WI       1234         1.0 2014-06-15  Sunday  ...   \n",
       "37624658     WI_3       WI       1234         1.0 2014-06-15  Sunday  ...   \n",
       "37624659     WI_3       WI       1234         0.0 2014-06-15  Sunday  ...   \n",
       "\n",
       "          year  event_name_1 event_type_1    event_name_2 event_type_2  \\\n",
       "35886730  2014        Easter     Cultural  OrthodoxEaster    Religious   \n",
       "35886731  2014        Easter     Cultural  OrthodoxEaster    Religious   \n",
       "35886732  2014        Easter     Cultural  OrthodoxEaster    Religious   \n",
       "35886733  2014        Easter     Cultural  OrthodoxEaster    Religious   \n",
       "35886734  2014        Easter     Cultural  OrthodoxEaster    Religious   \n",
       "...        ...           ...          ...             ...          ...   \n",
       "37624655  2014  NBAFinalsEnd     Sporting    Father's day     Cultural   \n",
       "37624656  2014  NBAFinalsEnd     Sporting    Father's day     Cultural   \n",
       "37624657  2014  NBAFinalsEnd     Sporting    Father's day     Cultural   \n",
       "37624658  2014  NBAFinalsEnd     Sporting    Father's day     Cultural   \n",
       "37624659  2014  NBAFinalsEnd     Sporting    Father's day     Cultural   \n",
       "\n",
       "         snap_CA  snap_TX  snap_WI  sell_price  week  \n",
       "35886730       0        0        0    8.257812    16  \n",
       "35886731       0        0        0    3.970703    16  \n",
       "35886732       0        0        0    2.970703    16  \n",
       "35886733       0        0        0    4.640625    16  \n",
       "35886734       0        0        0    3.080078    16  \n",
       "...          ...      ...      ...         ...   ...  \n",
       "37624655       0        1        1    2.880859    24  \n",
       "37624656       0        1        1    2.679688    24  \n",
       "37624657       0        1        1    3.980469    24  \n",
       "37624658       0        1        1    1.280273    24  \n",
       "37624659       0        1        1    1.000000    24  \n",
       "\n",
       "[60980 rows x 21 columns]"
      ]
     },
     "execution_count": 18,
     "metadata": {},
     "output_type": "execute_result"
    }
   ],
   "source": [
    "df_unpickle[~df_unpickle.event_name_1.isnull() & ~df_unpickle.event_name_2.isnull()]"
   ]
  },
  {
   "cell_type": "code",
   "execution_count": 19,
   "metadata": {},
   "outputs": [
    {
     "name": "stdout",
     "output_type": "stream",
     "text": [
      "3049\n"
     ]
    }
   ],
   "source": [
    "item_id = df_unpickle.item_id.unique().to_list()\n",
    "print(len(item_id))"
   ]
  },
  {
   "cell_type": "code",
   "execution_count": 20,
   "metadata": {},
   "outputs": [],
   "source": [
    "def snap(row):\n",
    "    if row['snap_'+ row.state_id] == 1:\n",
    "        return 1\n",
    "    return 0"
   ]
  },
  {
   "cell_type": "code",
   "execution_count": 21,
   "metadata": {},
   "outputs": [],
   "source": [
    "def product_feature_generation(itemid):\n",
    "    \n",
    "    product = df_unpickle.loc[df_unpickle.item_id == itemid].copy()\n",
    "    product['snap'] = product.apply(snap, axis=1)\n",
    "    product.drop(['snap_CA', 'snap_WI', 'snap_TX'], axis=1, inplace=True)\n",
    "   \n",
    "\n",
    "    product.drop(['cat_id', 'state_id', 'date', 'year'], axis=1, inplace=True)\n",
    "    product['units_lag_28'] = product.groupby('id')['units_sold'].transform(\n",
    "        lambda x: x.shift(28, fill_value=0)\n",
    "    )\n",
    "    \n",
    "   \n",
    "    # Rolling units sold for days -28 to -34\n",
    "    product['mean_rolling_7'] = product.groupby('id')['units_lag_28'].transform(\n",
    "        lambda x: x.rolling(7, min_periods=1).mean()\n",
    "    )\n",
    "    # Rolling units sold for days -28 to -55\n",
    "    product['mean_rolling_28'] = product.groupby('id')['units_lag_28'].transform(\n",
    "        lambda x: x.rolling(28, min_periods=1).mean()\n",
    "    )\n",
    "    # Rolling units sold for days -28 to -76\n",
    "    product['mean_rolling_49'] = product.groupby('id')['units_lag_28'].transform(\n",
    "        lambda x: x.rolling(49, min_periods=1).mean()\n",
    "    )\n",
    "    product['mean_rolling_84'] = product.groupby('id')['units_lag_28'].transform(\n",
    "        lambda x: x.rolling(84, min_periods=1).mean()\n",
    "    )\n",
    "    product['mean_rolling_140'] = product.groupby('id')['units_lag_28'].transform(\n",
    "        lambda x: x.rolling(140, min_periods=1).mean()\n",
    "    )\n",
    "    \n",
    "\n",
    "    product['std_rolling_7'] = product.groupby('id')['units_lag_28'].transform(\n",
    "        lambda x: x.rolling(7, min_periods=1).std()\n",
    "    )\n",
    "    product['std_rolling_28'] = product.groupby('id')['units_lag_28'].transform(\n",
    "        lambda x: x.rolling(28, min_periods=1).std()\n",
    "    )\n",
    "    product['std_rolling_49'] = product.groupby('id')['units_lag_28'].transform(\n",
    "        lambda x: x.rolling(49, min_periods=1).std()\n",
    "    )\n",
    "    product['std_rolling_84'] = product.groupby('id')['units_lag_28'].transform(\n",
    "        lambda x: x.rolling(84, min_periods=1).std()\n",
    "    )\n",
    "    product['std_rolling_140'] = product.groupby('id')['units_lag_28'].transform(\n",
    "        lambda x: x.rolling(140, min_periods=1).std()\n",
    "    )\n",
    "    \n",
    "    product['std_price_rolling_7'] = product.groupby('id')['sell_price'].transform(\n",
    "        lambda x: x.rolling(7, min_periods=1).std()\n",
    "    )\n",
    "    product['std_price_rolling_28'] = product.groupby('id')['sell_price'].transform(\n",
    "        lambda x: x.rolling(28, min_periods=1).std()\n",
    "    )\n",
    "    product['price_percent_change'] = product.groupby('id')['sell_price'].pct_change()\n",
    "    \n",
    "    product.drop(['id', 'item_id', 'event_name_1', 'event_name_2', 'week'], axis=1, inplace=True)\n",
    "    \n",
    "    categorical_cols = ['weekday', 'month']\n",
    "    for col in categorical_cols:\n",
    "        product[col] = product[col].astype('category')\n",
    "    product.reset_index(drop=True, inplace=True)\n",
    "    \n",
    "    encoded_cols = pd.get_dummies(product[[\n",
    "        'dept_id', 'store_id', 'weekday', 'month', 'event_type_1', 'event_type_2'\n",
    "    ]]).reset_index(drop=True)\n",
    "    product.drop(['dept_id', 'weekday', 'month', 'event_type_1', 'event_type_2'], axis=1, inplace=True)\n",
    "    product = pd.concat([product, encoded_cols], axis=1)\n",
    "    \n",
    "    # Keep only non-zero rolling value rows\n",
    "    product = product[product.day_number.astype(int) > 1000]\n",
    "    \n",
    "    return product"
   ]
  },
  {
   "cell_type": "code",
   "execution_count": 22,
   "metadata": {},
   "outputs": [],
   "source": [
    "df_001 = product_feature_generation('HOBBIES_1_001')"
   ]
  },
  {
   "cell_type": "markdown",
   "metadata": {},
   "source": [
    "### Training /Validation Split"
   ]
  },
  {
   "cell_type": "code",
   "execution_count": 24,
   "metadata": {},
   "outputs": [],
   "source": [
    "df_train = df_001[df_001.day_number.astype(int) <= 1885].reset_index(drop=True) # 1913-28\n",
    "df_val = df_001[(df_001.day_number.astype(int) > 1885)\n",
    "                                         & (df_001.day_number.astype(int) < 1914)].reset_index(drop=True)\n",
    "df_test = df_001[df_001.day_number.astype(int) >= 1914].reset_index(drop=True)"
   ]
  },
  {
   "cell_type": "code",
   "execution_count": 25,
   "metadata": {},
   "outputs": [],
   "source": [
    "df_train_x = df_train.iloc[:, 3:]\n",
    "df_train_y = df_train.units_sold\n",
    "df_val_x = df_val.iloc[:, 3:]\n",
    "df_val_y = df_val.units_sold"
   ]
  },
  {
   "cell_type": "code",
   "execution_count": 26,
   "metadata": {},
   "outputs": [],
   "source": [
    "\n",
    "df_test_x = df_test.iloc[:, 3:]"
   ]
  },
  {
   "cell_type": "markdown",
   "metadata": {},
   "source": [
    "### Modeling - XGBoost"
   ]
  },
  {
   "cell_type": "code",
   "execution_count": 27,
   "metadata": {},
   "outputs": [],
   "source": [
    "model = xgb.XGBRegressor(colsample_bytree=0.4,\n",
    "                 gamma=0,                 \n",
    "                 learning_rate=0.07,\n",
    "                 max_depth=3,\n",
    "                 min_child_weight=1.5,\n",
    "                 n_estimators=100,                                                                    \n",
    "                 reg_alpha=0.75,\n",
    "                 reg_lambda=0.45,\n",
    "                 subsample=0.6,\n",
    "                 seed=42)"
   ]
  },
  {
   "cell_type": "code",
   "execution_count": 28,
   "metadata": {},
   "outputs": [
    {
     "name": "stdout",
     "output_type": "stream",
     "text": [
      "[04:03:40] WARNING: /usr/local/miniconda/conda-bld/xgboost_1566327371504/work/src/objective/regression_obj.cu:152: reg:linear is now deprecated in favor of reg:squarederror.\n"
     ]
    },
    {
     "data": {
      "text/plain": [
       "XGBRegressor(colsample_bytree=0.4, learning_rate=0.07, min_child_weight=1.5,\n",
       "             reg_alpha=0.75, reg_lambda=0.45, seed=42, subsample=0.6)"
      ]
     },
     "execution_count": 28,
     "metadata": {},
     "output_type": "execute_result"
    }
   ],
   "source": [
    "model.fit(df_train_x, df_train_y)"
   ]
  },
  {
   "cell_type": "code",
   "execution_count": 29,
   "metadata": {},
   "outputs": [],
   "source": [
    "xgb_preds = np.round(model.predict(df_val_x))"
   ]
  },
  {
   "cell_type": "code",
   "execution_count": 30,
   "metadata": {},
   "outputs": [
    {
     "data": {
      "text/plain": [
       "0.8660254"
      ]
     },
     "execution_count": 30,
     "metadata": {},
     "output_type": "execute_result"
    }
   ],
   "source": [
    "np.sqrt(mean_squared_error(df_val_y.values, xgb_preds))"
   ]
  },
  {
   "cell_type": "code",
   "execution_count": 31,
   "metadata": {},
   "outputs": [
    {
     "data": {
      "text/plain": [
       "Text(0, 0.5, 'Feature Importance Score')"
      ]
     },
     "execution_count": 31,
     "metadata": {},
     "output_type": "execute_result"
    },
    {
     "data": {
      "image/png": "[encoded data removed]",
      "text/plain": [
       "<Figure size 1080x576 with 1 Axes>"
      ]
     },
     "metadata": {
      "needs_background": "light"
     },
     "output_type": "display_data"
    }
   ],
   "source": [
    "feature_importances = pd.Series(model.get_booster().get_fscore()).sort_values(ascending=False)\n",
    "plt.figure(figsize=(15, 8))\n",
    "feature_importances.plot(kind='bar')\n",
    "\n",
    "plt.ylabel('Feature Importance Score')"
   ]
  },
  {
   "cell_type": "markdown",
   "metadata": {},
   "source": [
    "## Parameters Tuning"
   ]
  },
  {
   "cell_type": "markdown",
   "metadata": {},
   "source": [
    "### reg_alpha and reg_lambda"
   ]
  },
  {
   "cell_type": "code",
   "execution_count": 42,
   "metadata": {},
   "outputs": [],
   "source": [
    "df_x = df_001[df_001.day_number.astype(int) < 1914].iloc[:, 3:]\n",
    "df_y = df_001[df_001.day_number.astype(int) < 1914].units_sold\n"
   ]
  },
  {
   "cell_type": "code",
   "execution_count": 45,
   "metadata": {},
   "outputs": [
    {
     "name": "stdout",
     "output_type": "stream",
     "text": [
      "[04:16:09] WARNING: /usr/local/miniconda/conda-bld/xgboost_1566327371504/work/src/objective/regression_obj.cu:152: reg:linear is now deprecated in favor of reg:squarederror.\n"
     ]
    },
    {
     "data": {
      "text/plain": [
       "({'reg_alpha': 0.75, 'reg_lambda': 0.1}, -0.5567851066589355)"
      ]
     },
     "execution_count": 45,
     "metadata": {},
     "output_type": "execute_result"
    }
   ],
   "source": [
    "\n",
    "\n",
    "tscv = TimeSeriesSplit(n_splits=2)\n",
    "reg_params = {\n",
    " 'reg_alpha':[1e-5, 1e-2, 0.1, 0.75, 1, 100],\n",
    " 'reg_lambda':[1e-5, 1e-2, 0.1, 0.45, 0.75, 1],\n",
    "    \n",
    "}\n",
    "reg_gsearch = GridSearchCV(estimator = xgb.XGBRegressor(colsample_bytree=0.4,\n",
    "                 gamma=0,                 \n",
    "                 learning_rate=0.07,\n",
    "                 max_depth=3,\n",
    "                 min_child_weight=1.5,\n",
    "                 n_estimators=100,                                                                    \n",
    "                 reg_alpha=0.75,\n",
    "                 reg_lambda=0.45,\n",
    "                 subsample=0.6,\n",
    "                 seed=42), \n",
    "             param_grid = reg_params, scoring='neg_mean_squared_error', n_jobs=4,\n",
    "             cv=tscv.split(df_x))\n",
    "reg_gsearch.fit(df_x, df_y)\n",
    "reg_gsearch.best_params_, reg_gsearch.best_score_"
   ]
  },
  {
   "cell_type": "code",
   "execution_count": 47,
   "metadata": {},
   "outputs": [
    {
     "name": "stdout",
     "output_type": "stream",
     "text": [
      "[04:16:51] WARNING: /usr/local/miniconda/conda-bld/xgboost_1566327371504/work/src/objective/regression_obj.cu:152: reg:linear is now deprecated in favor of reg:squarederror.\n"
     ]
    },
    {
     "data": {
      "text/plain": [
       "0.8660254"
      ]
     },
     "execution_count": 47,
     "metadata": {},
     "output_type": "execute_result"
    }
   ],
   "source": [
    "model = xgb.XGBRegressor(colsample_bytree=0.4,\n",
    "                 gamma=0,                 \n",
    "                 learning_rate=0.07,\n",
    "                 max_depth=3,\n",
    "                 min_child_weight=1.5,\n",
    "                 n_estimators=100,                                                                    \n",
    "                 reg_alpha=0.75,\n",
    "                 reg_lambda=0.1,\n",
    "                 subsample=0.6,\n",
    "                 seed=42)\n",
    "model.fit(df_train_x, df_train_y)\n",
    "xgb_preds = np.round(model.predict(df_val_x))\n",
    "np.sqrt(mean_squared_error(df_val_y.values, xgb_preds))"
   ]
  },
  {
   "cell_type": "markdown",
   "metadata": {},
   "source": [
    "### max_depth"
   ]
  },
  {
   "cell_type": "code",
   "execution_count": 48,
   "metadata": {},
   "outputs": [
    {
     "name": "stdout",
     "output_type": "stream",
     "text": [
      "[04:17:09] WARNING: /usr/local/miniconda/conda-bld/xgboost_1566327371504/work/src/objective/regression_obj.cu:152: reg:linear is now deprecated in favor of reg:squarederror.\n"
     ]
    },
    {
     "data": {
      "text/plain": [
       "({'max_depth': 3}, -0.5569222420454025)"
      ]
     },
     "execution_count": 48,
     "metadata": {},
     "output_type": "execute_result"
    }
   ],
   "source": [
    "reg_params = {\n",
    " 'max_depth': range(3,10,2)\n",
    "    \n",
    "}\n",
    "reg_gsearch = GridSearchCV(estimator = xgb.XGBRegressor(colsample_bytree=0.4,\n",
    "                 gamma=0,                 \n",
    "                 learning_rate=0.07,\n",
    "                 max_depth=3,\n",
    "                 min_child_weight=1.5,\n",
    "                 n_estimators=100,                                                                    \n",
    "                 reg_alpha=1,\n",
    "                 reg_lambda=0.75,\n",
    "                 subsample=0.6,\n",
    "                 seed=42), \n",
    "             param_grid = reg_params, scoring='neg_mean_squared_error', n_jobs=4, \n",
    "             cv=tscv.split(df_x))\n",
    "reg_gsearch.fit(df_x, df_y)\n",
    "reg_gsearch.best_params_, reg_gsearch.best_score_"
   ]
  },
  {
   "cell_type": "code",
   "execution_count": 49,
   "metadata": {},
   "outputs": [
    {
     "name": "stdout",
     "output_type": "stream",
     "text": [
      "[04:18:04] WARNING: /usr/local/miniconda/conda-bld/xgboost_1566327371504/work/src/objective/regression_obj.cu:152: reg:linear is now deprecated in favor of reg:squarederror.\n"
     ]
    },
    {
     "data": {
      "text/plain": [
       "0.8742344"
      ]
     },
     "execution_count": 49,
     "metadata": {},
     "output_type": "execute_result"
    }
   ],
   "source": [
    "model = xgb.XGBRegressor(colsample_bytree=0.4,\n",
    "                 gamma=0,                 \n",
    "                 learning_rate=0.07,\n",
    "                 max_depth=3,\n",
    "                 min_child_weight=2,\n",
    "                 n_estimators=100,                                                                    \n",
    "                 reg_alpha=1,\n",
    "                 reg_lambda=0.75,\n",
    "                 subsample=0.6,\n",
    "                 seed=42)\n",
    "model.fit(df_train_x, df_train_y)\n",
    "xgb_preds = np.round(model.predict(df_val_x))\n",
    "np.sqrt(mean_squared_error(df_val_y.values, xgb_preds))"
   ]
  },
  {
   "cell_type": "markdown",
   "metadata": {},
   "source": [
    "### subsample and colsample_bytree"
   ]
  },
  {
   "cell_type": "code",
   "execution_count": 50,
   "metadata": {},
   "outputs": [
    {
     "name": "stdout",
     "output_type": "stream",
     "text": [
      "[04:19:46] WARNING: /usr/local/miniconda/conda-bld/xgboost_1566327371504/work/src/objective/regression_obj.cu:152: reg:linear is now deprecated in favor of reg:squarederror.\n"
     ]
    },
    {
     "data": {
      "text/plain": [
       "({'colsample_bytree': 0.6, 'subsample': 0.9}, -0.5526705831289291)"
      ]
     },
     "execution_count": 50,
     "metadata": {},
     "output_type": "execute_result"
    }
   ],
   "source": [
    "reg_params = {\n",
    "    'subsample':[i/10.0 for i in range(0,10)],\n",
    "    'colsample_bytree':[i/10.0 for i in range(0,10)]\n",
    "}\n",
    "reg_gsearch = GridSearchCV(estimator = xgb.XGBRegressor(colsample_bytree=0.4,\n",
    "                 gamma=0,                 \n",
    "                 learning_rate=0.07,\n",
    "                 max_depth=3,\n",
    "                 min_child_weight=2,\n",
    "                 n_estimators=100,                                                                    \n",
    "                 reg_alpha=1,\n",
    "                 reg_lambda=0.75,\n",
    "                 subsample=0.6,\n",
    "                 seed=42), \n",
    "             param_grid = reg_params, scoring='neg_mean_squared_error', n_jobs=4, \n",
    "             cv=tscv.split(df_x))\n",
    "reg_gsearch.fit(df_x, df_y)\n",
    "reg_gsearch.best_params_, reg_gsearch.best_score_"
   ]
  },
  {
   "cell_type": "code",
   "execution_count": 51,
   "metadata": {},
   "outputs": [
    {
     "name": "stdout",
     "output_type": "stream",
     "text": [
      "[04:20:14] WARNING: /usr/local/miniconda/conda-bld/xgboost_1566327371504/work/src/objective/regression_obj.cu:152: reg:linear is now deprecated in favor of reg:squarederror.\n"
     ]
    },
    {
     "data": {
      "text/plain": [
       "0.8660254"
      ]
     },
     "execution_count": 51,
     "metadata": {},
     "output_type": "execute_result"
    }
   ],
   "source": [
    "model = xgb.XGBRegressor(colsample_bytree=0.6,\n",
    "                 gamma=0,                 \n",
    "                 learning_rate=0.07,\n",
    "                 max_depth=3,\n",
    "                 min_child_weight=2,\n",
    "                 n_estimators=100,                                                                    \n",
    "                 reg_alpha=1,\n",
    "                 reg_lambda=0.75,\n",
    "                 subsample=0.9,\n",
    "                 seed=42)\n",
    "model.fit(df_train_x, df_train_y)\n",
    "xgb_preds = np.round(model.predict(df_val_x))\n",
    "np.sqrt(mean_squared_error(df_val_y.values, xgb_preds))"
   ]
  }
 ],
 "metadata": {
  "kernelspec": {
   "display_name": "Python 3",
   "language": "python",
   "name": "python3"
  },
  "language_info": {
   "codemirror_mode": {
    "name": "ipython",
    "version": 3
   },
   "file_extension": ".py",
   "mimetype": "text/x-python",
   "name": "python",
   "nbconvert_exporter": "python",
   "pygments_lexer": "ipython3",
   "version": "3.7.1"
  }
 },
 "nbformat": 4,
 "nbformat_minor": 2
}
